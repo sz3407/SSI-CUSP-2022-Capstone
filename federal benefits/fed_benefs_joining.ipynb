{
 "cells": [
  {
   "cell_type": "code",
   "execution_count": 14,
   "metadata": {},
   "outputs": [],
   "source": [
    "# The purpose of this notebook was to join two Federal Payment csv files (differing structures).\n",
    "#\n",
    "# Output, single csv file with uniform structure for all Federal Payment tables in time series."
   ]
  },
  {
   "cell_type": "code",
   "execution_count": 1,
   "metadata": {},
   "outputs": [],
   "source": [
    "import string\n",
    "import re\n",
    "import pdfminer\n",
    "import pandas as pd\n",
    "import numpy as np\n",
    "import os\n",
    "\n",
    "from pdfminer.high_level import extract_text"
   ]
  },
  {
   "cell_type": "code",
   "execution_count": 2,
   "metadata": {},
   "outputs": [],
   "source": [
    "# import data\n",
    "_1990_2000 = pd.read_csv(\"1990_2000_fed_benefits.csv\")"
   ]
  },
  {
   "cell_type": "code",
   "execution_count": 3,
   "metadata": {},
   "outputs": [],
   "source": [
    "# copy over structure except \"EP\"\n",
    "_1990_2000 = _1990_2000[_1990_2000['living arrangements'] != 'Essential person']"
   ]
  },
  {
   "cell_type": "code",
   "execution_count": 4,
   "metadata": {},
   "outputs": [],
   "source": [
    "# convert to numeric form for no coverage\n",
    "_1990_2000['couple'] = _1990_2000['couple'].str.replace(r'--','0').astype(float)\n",
    "\n",
    "# calculate EP difference\n",
    "_1990_2000['essential person'] = round(_1990_2000['couple'] - _1990_2000['individual'], 2)\n",
    "\n",
    "_1990_2000['essential person'] = _1990_2000['essential person'].apply(lambda x : x if x > 0 else 0)"
   ]
  },
  {
   "cell_type": "code",
   "execution_count": 6,
   "metadata": {},
   "outputs": [],
   "source": [
    "# import other structure\n",
    "_2004_2011 = pd.read_csv(\"2004_2011_fed_benefits.csv\")"
   ]
  },
  {
   "cell_type": "code",
   "execution_count": 7,
   "metadata": {},
   "outputs": [],
   "source": [
    "# convert to numeric form for no coverage\n",
    "_2004_2011['essential person'] = _2004_2011['essential person'].str.replace(r'--','0').astype(float)"
   ]
  },
  {
   "cell_type": "code",
   "execution_count": 9,
   "metadata": {},
   "outputs": [],
   "source": [
    "# join two forms\n",
    "fed_benefs = pd.concat([_1990_2000, _2004_2011])"
   ]
  },
  {
   "cell_type": "code",
   "execution_count": 11,
   "metadata": {},
   "outputs": [],
   "source": [
    "# shuffle dataframe to pivot table\n",
    "pt = pd.pivot_table(fed_benefs, index=[\"living arrangements\", \"year\"], \n",
    "                       values=[\"individual\", \"couple\", \"essential person\"]).sort_index(axis='columns')\n",
    "\n",
    "\n",
    "col_order = ['individual', 'couple', 'essential person']\n",
    "pt = pt.reindex(col_order, axis=1)"
   ]
  },
  {
   "cell_type": "code",
   "execution_count": 12,
   "metadata": {},
   "outputs": [],
   "source": [
    "# [year, liv_ind[indv, cpl, ep], liv_hoa[indv, cpl, ep], med_f[indv, cpl, ep]]\n",
    "\n",
    "fed_benefs = [\n",
    "    [1990, [386.00, 579.00, 193.00], [257.34, 386.00, 128.66], [30.00, 0.00, 0.00]],\n",
    "    [1991, [407.00, 610.00, 203.00], [271.34, 406.67, 135.33], [30.00, 0.00, 0.00]],\n",
    "    [1992, [422.00, 633.00, 211.00], [281.34, 422.00, 140.66], [30.00, 0.00, 0.00]],\n",
    "    [1994, [446.00, 669.00, 223.00], [297.34, 446.00, 148.66], [30.00, 0.00, 0.00]],\n",
    "    [1995, [458.00, 687.00, 229.00], [305.34, 458.00, 152.66], [30.00, 0.00, 0.00]],\n",
    "    [1996, [470.00, 705.00, 235.00], [313.34, 470.00, 156.66], [30.00, 0.00, 0.00]],\n",
    "    [1997, [484.00, 726.00, 242.00], [322.67, 484.00, 161.33], [30.00, 0.00, 0.00]],\n",
    "    [1998, [494.00, 741.00, 247.00], [329.34, 494.00, 164.66], [30.00, 0.00, 0.00]],\n",
    "    [1999, [500.00, 751.00, 251.00], [333.34, 500.67, 167.33], [30.00, 0.00, 0.00]],\n",
    "    [2000, [512.00, 769.00, 257.00], [341.34, 512.67, 171.33], [30.00, 0.00, 0.00]],\n",
    "    [2004, [564.00, 846.00, 282.00], [376.00, 564.00, 188.00], [30.00, 60.00, 0.00]],\n",
    "    [2005, [579.00, 869.00, 290.00], [386.00, 579.34, 193.34], [30.00, 60.00, 0.00]],\n",
    "    [2006, [603.00, 904.00, 302.00], [402.00, 602.67, 201.33], [30.00, 60.00, 0.00]],\n",
    "    [2007, [623.00, 934.00, 312.00], [415.34, 622.67, 207.67], [30.00, 60.00, 0.00]],\n",
    "    [2008, [637.00, 956.00, 319.00], [424.67, 637.34, 212.67], [30.00, 60.00, 0.00]],\n",
    "    [2011, [674.00, 1011.00, 338.00], [449.34, 674.00, 225.33], [30.00, 60.00, 0.00]]\n",
    "]"
   ]
  },
  {
   "cell_type": "code",
   "execution_count": 13,
   "metadata": {},
   "outputs": [],
   "source": [
    "#output\n",
    "\n",
    "#fed_benefs.to_csv('fed_benefs_complete.csv', index=False)"
   ]
  },
  {
   "cell_type": "code",
   "execution_count": null,
   "metadata": {},
   "outputs": [],
   "source": []
  }
 ],
 "metadata": {
  "kernelspec": {
   "display_name": "cusp_kern",
   "language": "python",
   "name": "cusp_kern"
  },
  "language_info": {
   "codemirror_mode": {
    "name": "ipython",
    "version": 3
   },
   "file_extension": ".py",
   "mimetype": "text/x-python",
   "name": "python",
   "nbconvert_exporter": "python",
   "pygments_lexer": "ipython3",
   "version": "3.6.10"
  }
 },
 "nbformat": 4,
 "nbformat_minor": 2
}
