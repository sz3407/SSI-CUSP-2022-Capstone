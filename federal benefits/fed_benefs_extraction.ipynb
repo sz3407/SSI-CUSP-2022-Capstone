{
 "cells": [
  {
   "cell_type": "code",
   "execution_count": 1,
   "metadata": {},
   "outputs": [],
   "source": [
    "# The purpose of this notebook was to extract Federal Payment data from each report file (pdf).\n",
    "#\n",
    "# The output files from this notebook are separate csv files for the two year ranges of differing \n",
    "#    Federal Payment table structure.\n",
    "#\n",
    "# See: `fed_benefs_joining` for restructuring and joining these two files."
   ]
  },
  {
   "cell_type": "code",
   "execution_count": 1,
   "metadata": {},
   "outputs": [],
   "source": [
    "import string\n",
    "import re\n",
    "import pdfminer\n",
    "import pandas as pd\n",
    "import numpy as np\n",
    "import os\n",
    "\n",
    "from pdfminer.high_level import extract_text"
   ]
  },
  {
   "cell_type": "code",
   "execution_count": 8,
   "metadata": {},
   "outputs": [],
   "source": [
    "# Requires local report files\n",
    "\n",
    "years = ['1990', '1991', '1992', '1994', '1995', '1996', '1997', '1998', \n",
    "         '1999', '2000', '2004', '2005', '2006', '2007', '2008', '2011']\n",
    "dir_ = \"ssi_reports/\"\n",
    "file_name_prefix = \"ssi_\""
   ]
  },
  {
   "cell_type": "code",
   "execution_count": 12,
   "metadata": {},
   "outputs": [],
   "source": [
    "#read in all files (WARNING this will take a long time)\n",
    "raw_texts = []\n",
    "for idx, ele in enumerate(years):\n",
    "    file_path = dir_ + file_name_prefix + years[idx] + \"s.pdf\"\n",
    "    raw_texts.append(extract_text(file_path))"
   ]
  },
  {
   "cell_type": "code",
   "execution_count": 92,
   "metadata": {},
   "outputs": [],
   "source": [
    "#remove all double+ spaces in raw_texts\n",
    "for idx, ele in enumerate(raw_texts):\n",
    "    raw_texts[idx] = re.sub(' +', ' ', raw_texts[idx])"
   ]
  },
  {
   "cell_type": "code",
   "execution_count": 197,
   "metadata": {},
   "outputs": [],
   "source": [
    "pattern_text_block = r\"(FEDERAL BENEFIT|Federal benefit rates,).*?(?=STATE ASSISTANCE|State Assistance)\"\n",
    "pattern_fed_benef = r\"((\\$)*[\\d]{1,3}\\.[\\d]{2}|(\\$)*[\\d],[\\d]{3}\\.[\\d]{2})\"\n",
    "\n",
    "fed_benefs = []\n",
    "for idx, ele in enumerate(raw_texts):\n",
    "    #grab text block containing benefits\n",
    "    temp = ([x.group() for x in re.finditer(pattern_text_block, ele, flags=re.S)])\n",
    "    #isolate benefits\n",
    "    fed_benefs.append([x.group() for x in re.finditer(pattern_fed_benef, temp[0], flags=re.S)])\n",
    "    \n",
    "    #remove '$' from benefit amounts\n",
    "    fed_benefs[idx] = [benef.replace('$', '') for benef in fed_benefs[idx]]\n",
    "    \n",
    "    #handle where report structure changes\n",
    "    if (idx <= 9):\n",
    "        fed_benefs[idx].extend(('--', '--'))\n",
    "    else:\n",
    "        fed_benefs[idx].append('--')\n",
    "\n",
    "#hardfixes for known misalignment\n",
    "\n",
    "#shuffle 1992\n",
    "_1992_idxs = [3, 2, 4, 5, 0, 1, 6, 7]\n",
    "fed_benefs[2] = [fed_benefs[2][idx] for idx in _1992_idxs]\n",
    "\n",
    "#shuffle 1994-1996\n",
    "_1994_96_idxs = [2, 3, 4, 5, 0, 1, 6, 7]\n",
    "fed_benefs[3] = [fed_benefs[3][idx] for idx in _1994_96_idxs]\n",
    "fed_benefs[4] = [fed_benefs[4][idx] for idx in _1994_96_idxs]\n",
    "fed_benefs[5] = [fed_benefs[5][idx] for idx in _1994_96_idxs]"
   ]
  },
  {
   "cell_type": "code",
   "execution_count": 256,
   "metadata": {},
   "outputs": [],
   "source": [
    "fed_liv_arrs = ['Living independently', 'Living in household of another', 'Medicaid facility', 'Essential person']\n",
    "_fed_liv_arrs = ['Living independently', 'Living in household of another', 'Medicaid facility']\n",
    "\n",
    "dataframes = []\n",
    "\n",
    "#1990-2000\n",
    "for idx in range(10):\n",
    "    \n",
    "    #define data structure\n",
    "    _data = {\n",
    "        'year': [years[idx]] * 4,\n",
    "        'living arrangements': fed_liv_arrs,\n",
    "        'individual': fed_benefs[idx][0:4],\n",
    "        'couple': fed_benefs[idx][4:8]\n",
    "    }\n",
    "    \n",
    "    #create dataframe\n",
    "    fed_benef_df = pd.DataFrame(data = _data)\n",
    "    dataframes.append(fed_benef_df)\n",
    "    \n",
    "#2004-2011\n",
    "for idx in range(10, 16):\n",
    "    \n",
    "    #alternative structure\n",
    "    __data = {\n",
    "        'year': [years[idx]] * 3,\n",
    "        'living arrangements': _fed_liv_arrs,\n",
    "        'individual': fed_benefs[idx][0:3],\n",
    "        'couple': fed_benefs[idx][3:6],\n",
    "        'essential person': fed_benefs[idx][6:9]\n",
    "    }\n",
    "    \n",
    "    fed_benef_df = pd.DataFrame(data = __data)\n",
    "    dataframes.append(fed_benef_df)"
   ]
  },
  {
   "cell_type": "code",
   "execution_count": 262,
   "metadata": {},
   "outputs": [],
   "source": [
    "_1990_2000_fed_benefs = []\n",
    "_2004_2011_fed_benefs = []\n",
    "\n",
    "for idx, ele in enumerate(dataframes):\n",
    "    \n",
    "    if (idx <= 9):\n",
    "        _1990_2000_fed_benefs.append(ele)\n",
    "    else:\n",
    "        _2004_2011_fed_benefs.append(ele)\n",
    "        \n",
    "df_1990_2000_fed_benefs = pd.concat(_1990_2000_fed_benefs).reset_index()\n",
    "df_2004_2011_fed_benefs = pd.concat(_2004_2011_fed_benefs).reset_index()"
   ]
  },
  {
   "cell_type": "code",
   "execution_count": 199,
   "metadata": {},
   "outputs": [],
   "source": [
    "# mutator - modifies input token list\n",
    "# void, returns nothing\n",
    "def list_slice_inner_move(llist, left_index, right_index, replace_index):\n",
    "    temp_for_move = llist[left_index:right_index]\n",
    "    del llist[left_index:right_index]\n",
    "    llist[replace_index:replace_index] = temp_for_move"
   ]
  },
  {
   "cell_type": "code",
   "execution_count": 263,
   "metadata": {},
   "outputs": [],
   "source": [
    "df_1990_2000_fed_benefs.to_csv('1990_2000_fed_benefits.csv', index=False)"
   ]
  },
  {
   "cell_type": "code",
   "execution_count": 264,
   "metadata": {},
   "outputs": [],
   "source": [
    "df_2004_2011_fed_benefs.to_csv('2004_2011_fed_benefits.csv', index=False)"
   ]
  },
  {
   "cell_type": "code",
   "execution_count": null,
   "metadata": {},
   "outputs": [],
   "source": []
  }
 ],
 "metadata": {
  "kernelspec": {
   "display_name": "cusp_kern",
   "language": "python",
   "name": "cusp_kern"
  },
  "language_info": {
   "codemirror_mode": {
    "name": "ipython",
    "version": 3
   },
   "file_extension": ".py",
   "mimetype": "text/x-python",
   "name": "python",
   "nbconvert_exporter": "python",
   "pygments_lexer": "ipython3",
   "version": "3.6.10"
  }
 },
 "nbformat": 4,
 "nbformat_minor": 2
}
